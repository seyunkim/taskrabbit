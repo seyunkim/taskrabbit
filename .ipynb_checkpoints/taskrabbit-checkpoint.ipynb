{
 "cells": [
  {
   "cell_type": "markdown",
   "metadata": {},
   "source": [
    "# Task Rabbit Data Analysis\n",
    "by Zack Seyun Kim"
   ]
  },
  {
   "cell_type": "code",
   "execution_count": 2,
   "metadata": {},
   "outputs": [
    {
     "data": {
      "text/html": [
       "<script>\n",
       "  function code_toggle() {\n",
       "    if (code_shown){\n",
       "      $('div.input').hide('500');\n",
       "      $('#toggleButton').val('Show Code')\n",
       "    } else {\n",
       "      $('div.input').show('500');\n",
       "      $('#toggleButton').val('Hide Code')\n",
       "    }\n",
       "    code_shown = !code_shown\n",
       "  }\n",
       "\n",
       "  $( document ).ready(function(){\n",
       "    code_shown=false;\n",
       "    $('div.input').hide()\n",
       "  });\n",
       "</script>\n",
       "<form action=\"javascript:code_toggle()\"><input type=\"submit\" id=\"toggleButton\" value=\"Show Code\"></form>"
      ],
      "text/plain": [
       "<IPython.core.display.HTML object>"
      ]
     },
     "metadata": {},
     "output_type": "display_data"
    }
   ],
   "source": [
    "%%HTML\n",
    "<script>\n",
    "  function code_toggle() {\n",
    "    if (code_shown){\n",
    "      $('div.input').hide('500');\n",
    "      $('#toggleButton').val('Show Code')\n",
    "    } else {\n",
    "      $('div.input').show('500');\n",
    "      $('#toggleButton').val('Hide Code')\n",
    "    }\n",
    "    code_shown = !code_shown\n",
    "  }\n",
    "\n",
    "  $( document ).ready(function(){\n",
    "    code_shown=false;\n",
    "    $('div.input').hide()\n",
    "  });\n",
    "</script>\n",
    "<form action=\"javascript:code_toggle()\"><input type=\"submit\" id=\"toggleButton\" value=\"Show Code\"></form>"
   ]
  },
  {
   "cell_type": "code",
   "execution_count": 3,
   "metadata": {},
   "outputs": [],
   "source": [
    "import pandas as pd \n",
    "import numpy as np"
   ]
  },
  {
   "cell_type": "code",
   "execution_count": 4,
   "metadata": {},
   "outputs": [],
   "source": [
    "data = pd.read_csv('sample.csv')"
   ]
  },
  {
   "cell_type": "markdown",
   "metadata": {},
   "source": [
    "### 'A \"recommendation\" is the group of Taskers from which the Client can choose one to book.'\n"
   ]
  },
  {
   "cell_type": "code",
   "execution_count": 4,
   "metadata": {
    "scrolled": true
   },
   "outputs": [
    {
     "data": {
      "text/html": [
       "<div>\n",
       "<style scoped>\n",
       "    .dataframe tbody tr th:only-of-type {\n",
       "        vertical-align: middle;\n",
       "    }\n",
       "\n",
       "    .dataframe tbody tr th {\n",
       "        vertical-align: top;\n",
       "    }\n",
       "\n",
       "    .dataframe thead th {\n",
       "        text-align: right;\n",
       "    }\n",
       "</style>\n",
       "<table border=\"1\" class=\"dataframe\">\n",
       "  <thead>\n",
       "    <tr style=\"text-align: right;\">\n",
       "      <th></th>\n",
       "      <th>recommendation_id</th>\n",
       "      <th>created_at</th>\n",
       "      <th>tasker_id</th>\n",
       "      <th>position</th>\n",
       "      <th>hourly_rate</th>\n",
       "      <th>num_completed_tasks</th>\n",
       "      <th>hired</th>\n",
       "      <th>category</th>\n",
       "    </tr>\n",
       "  </thead>\n",
       "  <tbody>\n",
       "    <tr>\n",
       "      <th>0</th>\n",
       "      <td>0-0-70cf97d7-37af-4834-901c-ce3ad4893b8c</td>\n",
       "      <td>2017-09-01 00:32:25</td>\n",
       "      <td>1009185352</td>\n",
       "      <td>1</td>\n",
       "      <td>38</td>\n",
       "      <td>151</td>\n",
       "      <td>0</td>\n",
       "      <td>Furniture Assembly</td>\n",
       "    </tr>\n",
       "    <tr>\n",
       "      <th>1</th>\n",
       "      <td>0-0-70cf97d7-37af-4834-901c-ce3ad4893b8c</td>\n",
       "      <td>2017-09-01 00:32:25</td>\n",
       "      <td>1006892359</td>\n",
       "      <td>2</td>\n",
       "      <td>40</td>\n",
       "      <td>193</td>\n",
       "      <td>0</td>\n",
       "      <td>Furniture Assembly</td>\n",
       "    </tr>\n",
       "    <tr>\n",
       "      <th>2</th>\n",
       "      <td>0-0-70cf97d7-37af-4834-901c-ce3ad4893b8c</td>\n",
       "      <td>2017-09-01 00:32:25</td>\n",
       "      <td>1012023956</td>\n",
       "      <td>3</td>\n",
       "      <td>28</td>\n",
       "      <td>0</td>\n",
       "      <td>0</td>\n",
       "      <td>Furniture Assembly</td>\n",
       "    </tr>\n",
       "    <tr>\n",
       "      <th>3</th>\n",
       "      <td>0-0-70cf97d7-37af-4834-901c-ce3ad4893b8c</td>\n",
       "      <td>2017-09-01 00:32:25</td>\n",
       "      <td>1009733517</td>\n",
       "      <td>4</td>\n",
       "      <td>43</td>\n",
       "      <td>303</td>\n",
       "      <td>0</td>\n",
       "      <td>Furniture Assembly</td>\n",
       "    </tr>\n",
       "    <tr>\n",
       "      <th>4</th>\n",
       "      <td>0-0-70cf97d7-37af-4834-901c-ce3ad4893b8c</td>\n",
       "      <td>2017-09-01 00:32:25</td>\n",
       "      <td>1013579273</td>\n",
       "      <td>5</td>\n",
       "      <td>29</td>\n",
       "      <td>39</td>\n",
       "      <td>0</td>\n",
       "      <td>Furniture Assembly</td>\n",
       "    </tr>\n",
       "  </tbody>\n",
       "</table>\n",
       "</div>"
      ],
      "text/plain": [
       "                          recommendation_id           created_at   tasker_id  \\\n",
       "0  0-0-70cf97d7-37af-4834-901c-ce3ad4893b8c  2017-09-01 00:32:25  1009185352   \n",
       "1  0-0-70cf97d7-37af-4834-901c-ce3ad4893b8c  2017-09-01 00:32:25  1006892359   \n",
       "2  0-0-70cf97d7-37af-4834-901c-ce3ad4893b8c  2017-09-01 00:32:25  1012023956   \n",
       "3  0-0-70cf97d7-37af-4834-901c-ce3ad4893b8c  2017-09-01 00:32:25  1009733517   \n",
       "4  0-0-70cf97d7-37af-4834-901c-ce3ad4893b8c  2017-09-01 00:32:25  1013579273   \n",
       "\n",
       "   position  hourly_rate  num_completed_tasks  hired            category  \n",
       "0         1           38                  151      0  Furniture Assembly  \n",
       "1         2           40                  193      0  Furniture Assembly  \n",
       "2         3           28                    0      0  Furniture Assembly  \n",
       "3         4           43                  303      0  Furniture Assembly  \n",
       "4         5           29                   39      0  Furniture Assembly  "
      ]
     },
     "execution_count": 4,
     "metadata": {},
     "output_type": "execute_result"
    }
   ],
   "source": [
    "#provided dataset:\n",
    "data.head()"
   ]
  },
  {
   "cell_type": "code",
   "execution_count": 7,
   "metadata": {
    "scrolled": false
   },
   "outputs": [
    {
     "data": {
      "text/html": [
       "<div>\n",
       "<style scoped>\n",
       "    .dataframe tbody tr th:only-of-type {\n",
       "        vertical-align: middle;\n",
       "    }\n",
       "\n",
       "    .dataframe tbody tr th {\n",
       "        vertical-align: top;\n",
       "    }\n",
       "\n",
       "    .dataframe thead th {\n",
       "        text-align: right;\n",
       "    }\n",
       "</style>\n",
       "<table border=\"1\" class=\"dataframe\">\n",
       "  <thead>\n",
       "    <tr style=\"text-align: right;\">\n",
       "      <th></th>\n",
       "      <th>tasker_id</th>\n",
       "      <th>position</th>\n",
       "      <th>hourly_rate</th>\n",
       "      <th>num_completed_tasks</th>\n",
       "      <th>hired</th>\n",
       "    </tr>\n",
       "  </thead>\n",
       "  <tbody>\n",
       "    <tr>\n",
       "      <th>count</th>\n",
       "      <td>3.000000e+04</td>\n",
       "      <td>30000.000000</td>\n",
       "      <td>30000.000000</td>\n",
       "      <td>30000.000000</td>\n",
       "      <td>30000.000000</td>\n",
       "    </tr>\n",
       "    <tr>\n",
       "      <th>mean</th>\n",
       "      <td>1.011072e+09</td>\n",
       "      <td>7.873600</td>\n",
       "      <td>57.482533</td>\n",
       "      <td>221.235700</td>\n",
       "      <td>0.056833</td>\n",
       "    </tr>\n",
       "    <tr>\n",
       "      <th>std</th>\n",
       "      <td>2.501822e+06</td>\n",
       "      <td>4.319442</td>\n",
       "      <td>36.222860</td>\n",
       "      <td>279.801812</td>\n",
       "      <td>0.231528</td>\n",
       "    </tr>\n",
       "    <tr>\n",
       "      <th>min</th>\n",
       "      <td>1.006647e+09</td>\n",
       "      <td>1.000000</td>\n",
       "      <td>18.000000</td>\n",
       "      <td>0.000000</td>\n",
       "      <td>0.000000</td>\n",
       "    </tr>\n",
       "    <tr>\n",
       "      <th>25%</th>\n",
       "      <td>1.008955e+09</td>\n",
       "      <td>4.000000</td>\n",
       "      <td>38.000000</td>\n",
       "      <td>23.000000</td>\n",
       "      <td>0.000000</td>\n",
       "    </tr>\n",
       "    <tr>\n",
       "      <th>50%</th>\n",
       "      <td>1.010579e+09</td>\n",
       "      <td>8.000000</td>\n",
       "      <td>45.000000</td>\n",
       "      <td>114.000000</td>\n",
       "      <td>0.000000</td>\n",
       "    </tr>\n",
       "    <tr>\n",
       "      <th>75%</th>\n",
       "      <td>1.013444e+09</td>\n",
       "      <td>12.000000</td>\n",
       "      <td>60.000000</td>\n",
       "      <td>300.250000</td>\n",
       "      <td>0.000000</td>\n",
       "    </tr>\n",
       "    <tr>\n",
       "      <th>max</th>\n",
       "      <td>1.015020e+09</td>\n",
       "      <td>15.000000</td>\n",
       "      <td>290.000000</td>\n",
       "      <td>1406.000000</td>\n",
       "      <td>1.000000</td>\n",
       "    </tr>\n",
       "  </tbody>\n",
       "</table>\n",
       "</div>"
      ],
      "text/plain": [
       "          tasker_id      position   hourly_rate  num_completed_tasks  \\\n",
       "count  3.000000e+04  30000.000000  30000.000000         30000.000000   \n",
       "mean   1.011072e+09      7.873600     57.482533           221.235700   \n",
       "std    2.501822e+06      4.319442     36.222860           279.801812   \n",
       "min    1.006647e+09      1.000000     18.000000             0.000000   \n",
       "25%    1.008955e+09      4.000000     38.000000            23.000000   \n",
       "50%    1.010579e+09      8.000000     45.000000           114.000000   \n",
       "75%    1.013444e+09     12.000000     60.000000           300.250000   \n",
       "max    1.015020e+09     15.000000    290.000000          1406.000000   \n",
       "\n",
       "              hired  \n",
       "count  30000.000000  \n",
       "mean       0.056833  \n",
       "std        0.231528  \n",
       "min        0.000000  \n",
       "25%        0.000000  \n",
       "50%        0.000000  \n",
       "75%        0.000000  \n",
       "max        1.000000  "
      ]
     },
     "execution_count": 7,
     "metadata": {},
     "output_type": "execute_result"
    }
   ],
   "source": [
    "data.describe()"
   ]
  },
  {
   "cell_type": "code",
   "execution_count": 6,
   "metadata": {},
   "outputs": [],
   "source": [
    "recSets = data.groupby('recommendation_id')"
   ]
  },
  {
   "cell_type": "markdown",
   "metadata": {},
   "source": [
    "1.) **How many recommendation sets are in this data sample?**<br>\n",
    "2,100\n"
   ]
  },
  {
   "cell_type": "code",
   "execution_count": 7,
   "metadata": {},
   "outputs": [
    {
     "data": {
      "text/plain": [
       "2100"
      ]
     },
     "execution_count": 7,
     "metadata": {},
     "output_type": "execute_result"
    }
   ],
   "source": [
    "len(recSets)"
   ]
  },
  {
   "cell_type": "code",
   "execution_count": 8,
   "metadata": {},
   "outputs": [
    {
     "data": {
      "text/plain": [
       "2100"
      ]
     },
     "execution_count": 8,
     "metadata": {},
     "output_type": "execute_result"
    }
   ],
   "source": [
    "#either way to find unique recSets (using groupby or unique count)\n",
    "data.recommendation_id.nunique()"
   ]
  },
  {
   "cell_type": "markdown",
   "metadata": {},
   "source": [
    "2.) **Each recommendation set shows from 1 to 15 Taskers, what is:**\n",
    "     - average number of Taskers shown for each recommendation set: 14.3\n",
    "     - median  number of Taskers shown for each recommendation set: 15\n",
    "   "
   ]
  },
  {
   "cell_type": "code",
   "execution_count": 23,
   "metadata": {
    "scrolled": true
   },
   "outputs": [
    {
     "name": "stdout",
     "output_type": "stream",
     "text": [
      "14.285714285714286\n",
      "15.0\n"
     ]
    }
   ],
   "source": [
    "#because we grouped by recommendation_id set earlier, we just need to iterate through the pandas group object\n",
    "import statistics\n",
    "setTaskers = []\n",
    "for rec_id,Set in recSets:\n",
    "    setTaskers.append(len(Set))\n",
    "print(statistics.mean(setTaskers))\n",
    "print(statistics.median(setTaskers))\n",
    "    "
   ]
  },
  {
   "cell_type": "markdown",
   "metadata": {},
   "source": [
    "3.**How many total unique Taskers are there in this data sample?**<br>\n",
    "830"
   ]
  },
  {
   "cell_type": "code",
   "execution_count": 27,
   "metadata": {
    "scrolled": true
   },
   "outputs": [
    {
     "data": {
      "text/plain": [
       "830"
      ]
     },
     "execution_count": 27,
     "metadata": {},
     "output_type": "execute_result"
    }
   ],
   "source": [
    "data.tasker_id.nunique()"
   ]
  },
  {
   "cell_type": "markdown",
   "metadata": {},
   "source": [
    "4.) **Which Tasker has been shown the most?**<br>Tasker:1014508755 has been shown in the most recommendation sets. with 608 impressions<br>\n",
    "   **Which Tasker has been shown the least?**<br> Tasker: 1013573988 et al. the least shown taskers with only one impression in the recommendation sets(see below)"
   ]
  },
  {
   "cell_type": "code",
   "execution_count": 57,
   "metadata": {
    "scrolled": false
   },
   "outputs": [
    {
     "data": {
      "text/plain": [
       "1014508755    608\n",
       "1012043028    438\n",
       "1014675294    387\n",
       "1014629676    311\n",
       "1015015238    290\n",
       "Name: tasker_id, dtype: int64"
      ]
     },
     "execution_count": 57,
     "metadata": {},
     "output_type": "execute_result"
    }
   ],
   "source": [
    "#**Which Tasker has been shown the most?**\n",
    "data.tasker_id.value_counts().head()"
   ]
  },
  {
   "cell_type": "code",
   "execution_count": 19,
   "metadata": {},
   "outputs": [
    {
     "data": {
      "text/html": [
       "<div>\n",
       "<style scoped>\n",
       "    .dataframe tbody tr th:only-of-type {\n",
       "        vertical-align: middle;\n",
       "    }\n",
       "\n",
       "    .dataframe tbody tr th {\n",
       "        vertical-align: top;\n",
       "    }\n",
       "\n",
       "    .dataframe thead th {\n",
       "        text-align: right;\n",
       "    }\n",
       "</style>\n",
       "<table border=\"1\" class=\"dataframe\">\n",
       "  <thead>\n",
       "    <tr style=\"text-align: right;\">\n",
       "      <th></th>\n",
       "      <th>tasker_id</th>\n",
       "    </tr>\n",
       "  </thead>\n",
       "  <tbody>\n",
       "    <tr>\n",
       "      <th>1013573988</th>\n",
       "      <td>1</td>\n",
       "    </tr>\n",
       "    <tr>\n",
       "      <th>1009994950</th>\n",
       "      <td>1</td>\n",
       "    </tr>\n",
       "    <tr>\n",
       "      <th>1012386513</th>\n",
       "      <td>1</td>\n",
       "    </tr>\n",
       "    <tr>\n",
       "      <th>1007383273</th>\n",
       "      <td>1</td>\n",
       "    </tr>\n",
       "    <tr>\n",
       "      <th>1014926743</th>\n",
       "      <td>1</td>\n",
       "    </tr>\n",
       "    <tr>\n",
       "      <th>1009112003</th>\n",
       "      <td>1</td>\n",
       "    </tr>\n",
       "    <tr>\n",
       "      <th>1010009736</th>\n",
       "      <td>1</td>\n",
       "    </tr>\n",
       "    <tr>\n",
       "      <th>1014310300</th>\n",
       "      <td>1</td>\n",
       "    </tr>\n",
       "    <tr>\n",
       "      <th>1012678504</th>\n",
       "      <td>1</td>\n",
       "    </tr>\n",
       "    <tr>\n",
       "      <th>1012364558</th>\n",
       "      <td>1</td>\n",
       "    </tr>\n",
       "    <tr>\n",
       "      <th>1012166729</th>\n",
       "      <td>1</td>\n",
       "    </tr>\n",
       "    <tr>\n",
       "      <th>1010021990</th>\n",
       "      <td>1</td>\n",
       "    </tr>\n",
       "    <tr>\n",
       "      <th>1013573125</th>\n",
       "      <td>1</td>\n",
       "    </tr>\n",
       "    <tr>\n",
       "      <th>1011901532</th>\n",
       "      <td>1</td>\n",
       "    </tr>\n",
       "    <tr>\n",
       "      <th>1011949117</th>\n",
       "      <td>1</td>\n",
       "    </tr>\n",
       "    <tr>\n",
       "      <th>1010681878</th>\n",
       "      <td>1</td>\n",
       "    </tr>\n",
       "    <tr>\n",
       "      <th>1011968845</th>\n",
       "      <td>1</td>\n",
       "    </tr>\n",
       "    <tr>\n",
       "      <th>1013830691</th>\n",
       "      <td>1</td>\n",
       "    </tr>\n",
       "    <tr>\n",
       "      <th>1012348656</th>\n",
       "      <td>1</td>\n",
       "    </tr>\n",
       "    <tr>\n",
       "      <th>1009871933</th>\n",
       "      <td>1</td>\n",
       "    </tr>\n",
       "    <tr>\n",
       "      <th>1012289475</th>\n",
       "      <td>1</td>\n",
       "    </tr>\n",
       "    <tr>\n",
       "      <th>1006853970</th>\n",
       "      <td>1</td>\n",
       "    </tr>\n",
       "    <tr>\n",
       "      <th>1013934937</th>\n",
       "      <td>1</td>\n",
       "    </tr>\n",
       "    <tr>\n",
       "      <th>1006690425</th>\n",
       "      <td>1</td>\n",
       "    </tr>\n",
       "    <tr>\n",
       "      <th>1008469117</th>\n",
       "      <td>1</td>\n",
       "    </tr>\n",
       "    <tr>\n",
       "      <th>1009641175</th>\n",
       "      <td>1</td>\n",
       "    </tr>\n",
       "    <tr>\n",
       "      <th>1014547884</th>\n",
       "      <td>1</td>\n",
       "    </tr>\n",
       "    <tr>\n",
       "      <th>1010779242</th>\n",
       "      <td>1</td>\n",
       "    </tr>\n",
       "    <tr>\n",
       "      <th>1008604368</th>\n",
       "      <td>1</td>\n",
       "    </tr>\n",
       "    <tr>\n",
       "      <th>1009603880</th>\n",
       "      <td>1</td>\n",
       "    </tr>\n",
       "    <tr>\n",
       "      <th>...</th>\n",
       "      <td>...</td>\n",
       "    </tr>\n",
       "    <tr>\n",
       "      <th>1009772528</th>\n",
       "      <td>1</td>\n",
       "    </tr>\n",
       "    <tr>\n",
       "      <th>1014478773</th>\n",
       "      <td>1</td>\n",
       "    </tr>\n",
       "    <tr>\n",
       "      <th>1009754999</th>\n",
       "      <td>1</td>\n",
       "    </tr>\n",
       "    <tr>\n",
       "      <th>1008919567</th>\n",
       "      <td>1</td>\n",
       "    </tr>\n",
       "    <tr>\n",
       "      <th>1008368716</th>\n",
       "      <td>1</td>\n",
       "    </tr>\n",
       "    <tr>\n",
       "      <th>1013854788</th>\n",
       "      <td>1</td>\n",
       "    </tr>\n",
       "    <tr>\n",
       "      <th>1013656032</th>\n",
       "      <td>1</td>\n",
       "    </tr>\n",
       "    <tr>\n",
       "      <th>1013731883</th>\n",
       "      <td>1</td>\n",
       "    </tr>\n",
       "    <tr>\n",
       "      <th>1013362004</th>\n",
       "      <td>1</td>\n",
       "    </tr>\n",
       "    <tr>\n",
       "      <th>1010042971</th>\n",
       "      <td>1</td>\n",
       "    </tr>\n",
       "    <tr>\n",
       "      <th>1007246122</th>\n",
       "      <td>1</td>\n",
       "    </tr>\n",
       "    <tr>\n",
       "      <th>1011952623</th>\n",
       "      <td>1</td>\n",
       "    </tr>\n",
       "    <tr>\n",
       "      <th>1009547227</th>\n",
       "      <td>1</td>\n",
       "    </tr>\n",
       "    <tr>\n",
       "      <th>1008033678</th>\n",
       "      <td>1</td>\n",
       "    </tr>\n",
       "    <tr>\n",
       "      <th>1012805440</th>\n",
       "      <td>1</td>\n",
       "    </tr>\n",
       "    <tr>\n",
       "      <th>1007472083</th>\n",
       "      <td>1</td>\n",
       "    </tr>\n",
       "    <tr>\n",
       "      <th>1009618500</th>\n",
       "      <td>1</td>\n",
       "    </tr>\n",
       "    <tr>\n",
       "      <th>1011985968</th>\n",
       "      <td>1</td>\n",
       "    </tr>\n",
       "    <tr>\n",
       "      <th>1009702351</th>\n",
       "      <td>1</td>\n",
       "    </tr>\n",
       "    <tr>\n",
       "      <th>1007638825</th>\n",
       "      <td>1</td>\n",
       "    </tr>\n",
       "    <tr>\n",
       "      <th>1009712638</th>\n",
       "      <td>1</td>\n",
       "    </tr>\n",
       "    <tr>\n",
       "      <th>1007480912</th>\n",
       "      <td>1</td>\n",
       "    </tr>\n",
       "    <tr>\n",
       "      <th>1008870833</th>\n",
       "      <td>1</td>\n",
       "    </tr>\n",
       "    <tr>\n",
       "      <th>1010640007</th>\n",
       "      <td>1</td>\n",
       "    </tr>\n",
       "    <tr>\n",
       "      <th>1014593279</th>\n",
       "      <td>1</td>\n",
       "    </tr>\n",
       "    <tr>\n",
       "      <th>1014086818</th>\n",
       "      <td>1</td>\n",
       "    </tr>\n",
       "    <tr>\n",
       "      <th>1008474216</th>\n",
       "      <td>1</td>\n",
       "    </tr>\n",
       "    <tr>\n",
       "      <th>1012151299</th>\n",
       "      <td>1</td>\n",
       "    </tr>\n",
       "    <tr>\n",
       "      <th>1014439502</th>\n",
       "      <td>1</td>\n",
       "    </tr>\n",
       "    <tr>\n",
       "      <th>1011972750</th>\n",
       "      <td>1</td>\n",
       "    </tr>\n",
       "  </tbody>\n",
       "</table>\n",
       "<p>68 rows × 1 columns</p>\n",
       "</div>"
      ],
      "text/plain": [
       "            tasker_id\n",
       "1013573988          1\n",
       "1009994950          1\n",
       "1012386513          1\n",
       "1007383273          1\n",
       "1014926743          1\n",
       "1009112003          1\n",
       "1010009736          1\n",
       "1014310300          1\n",
       "1012678504          1\n",
       "1012364558          1\n",
       "1012166729          1\n",
       "1010021990          1\n",
       "1013573125          1\n",
       "1011901532          1\n",
       "1011949117          1\n",
       "1010681878          1\n",
       "1011968845          1\n",
       "1013830691          1\n",
       "1012348656          1\n",
       "1009871933          1\n",
       "1012289475          1\n",
       "1006853970          1\n",
       "1013934937          1\n",
       "1006690425          1\n",
       "1008469117          1\n",
       "1009641175          1\n",
       "1014547884          1\n",
       "1010779242          1\n",
       "1008604368          1\n",
       "1009603880          1\n",
       "...               ...\n",
       "1009772528          1\n",
       "1014478773          1\n",
       "1009754999          1\n",
       "1008919567          1\n",
       "1008368716          1\n",
       "1013854788          1\n",
       "1013656032          1\n",
       "1013731883          1\n",
       "1013362004          1\n",
       "1010042971          1\n",
       "1007246122          1\n",
       "1011952623          1\n",
       "1009547227          1\n",
       "1008033678          1\n",
       "1012805440          1\n",
       "1007472083          1\n",
       "1009618500          1\n",
       "1011985968          1\n",
       "1009702351          1\n",
       "1007638825          1\n",
       "1009712638          1\n",
       "1007480912          1\n",
       "1008870833          1\n",
       "1010640007          1\n",
       "1014593279          1\n",
       "1014086818          1\n",
       "1008474216          1\n",
       "1012151299          1\n",
       "1014439502          1\n",
       "1011972750          1\n",
       "\n",
       "[68 rows x 1 columns]"
      ]
     },
     "execution_count": 19,
     "metadata": {},
     "output_type": "execute_result"
    }
   ],
   "source": [
    "#Which Tasker has been shown the least?\n",
    "shown = pd.DataFrame(data.tasker_id.value_counts())\n",
    "shown.loc[shown['tasker_id']==1]"
   ]
  },
  {
   "cell_type": "markdown",
   "metadata": {},
   "source": [
    "5.) **Which Tasker has been hired the most?**<br>\n",
    "user: 1012043028 with 59 hires (found by querying those who've been hired, and using value_counts function to aggregate unique_taskers with most hires <br>\n",
    "**Which Tasker has been hired the least?**<br>1006646767 et al. group of taskers(found by grouping table by tasker_id, and using sum as the aggregate function on the hired column. the taskers with 0 hires have been hired the least.(see cell below)"
   ]
  },
  {
   "cell_type": "code",
   "execution_count": 39,
   "metadata": {
    "scrolled": false
   },
   "outputs": [
    {
     "data": {
      "text/plain": [
       "1012043028    59\n",
       "1013131759    39\n",
       "1013359522    37\n",
       "1013165984    36\n",
       "1013794735    35\n",
       "Name: tasker_id, dtype: int64"
      ]
     },
     "execution_count": 39,
     "metadata": {},
     "output_type": "execute_result"
    }
   ],
   "source": [
    "#**Which Tasker has been hired the most?**\n",
    "hired = data.loc[data['hired']==1].tasker_id.value_counts()\n",
    "hired[:5]"
   ]
  },
  {
   "cell_type": "code",
   "execution_count": 16,
   "metadata": {
    "scrolled": true
   },
   "outputs": [
    {
     "data": {
      "text/html": [
       "<div>\n",
       "<style scoped>\n",
       "    .dataframe tbody tr th:only-of-type {\n",
       "        vertical-align: middle;\n",
       "    }\n",
       "\n",
       "    .dataframe tbody tr th {\n",
       "        vertical-align: top;\n",
       "    }\n",
       "\n",
       "    .dataframe thead th {\n",
       "        text-align: right;\n",
       "    }\n",
       "</style>\n",
       "<table border=\"1\" class=\"dataframe\">\n",
       "  <thead>\n",
       "    <tr style=\"text-align: right;\">\n",
       "      <th></th>\n",
       "      <th>hired</th>\n",
       "    </tr>\n",
       "    <tr>\n",
       "      <th>tasker_id</th>\n",
       "      <th></th>\n",
       "    </tr>\n",
       "  </thead>\n",
       "  <tbody>\n",
       "    <tr>\n",
       "      <th>1006646767</th>\n",
       "      <td>0</td>\n",
       "    </tr>\n",
       "    <tr>\n",
       "      <th>1006655883</th>\n",
       "      <td>0</td>\n",
       "    </tr>\n",
       "    <tr>\n",
       "      <th>1006690425</th>\n",
       "      <td>0</td>\n",
       "    </tr>\n",
       "    <tr>\n",
       "      <th>1006702141</th>\n",
       "      <td>0</td>\n",
       "    </tr>\n",
       "    <tr>\n",
       "      <th>1006720473</th>\n",
       "      <td>0</td>\n",
       "    </tr>\n",
       "    <tr>\n",
       "      <th>1006751673</th>\n",
       "      <td>0</td>\n",
       "    </tr>\n",
       "    <tr>\n",
       "      <th>1006771484</th>\n",
       "      <td>0</td>\n",
       "    </tr>\n",
       "    <tr>\n",
       "      <th>1006797028</th>\n",
       "      <td>0</td>\n",
       "    </tr>\n",
       "    <tr>\n",
       "      <th>1006808958</th>\n",
       "      <td>0</td>\n",
       "    </tr>\n",
       "    <tr>\n",
       "      <th>1006853970</th>\n",
       "      <td>0</td>\n",
       "    </tr>\n",
       "    <tr>\n",
       "      <th>1006899551</th>\n",
       "      <td>0</td>\n",
       "    </tr>\n",
       "    <tr>\n",
       "      <th>1006912729</th>\n",
       "      <td>0</td>\n",
       "    </tr>\n",
       "    <tr>\n",
       "      <th>1006997279</th>\n",
       "      <td>0</td>\n",
       "    </tr>\n",
       "    <tr>\n",
       "      <th>1007007551</th>\n",
       "      <td>0</td>\n",
       "    </tr>\n",
       "    <tr>\n",
       "      <th>1007030973</th>\n",
       "      <td>0</td>\n",
       "    </tr>\n",
       "    <tr>\n",
       "      <th>1007062502</th>\n",
       "      <td>0</td>\n",
       "    </tr>\n",
       "    <tr>\n",
       "      <th>1007079569</th>\n",
       "      <td>0</td>\n",
       "    </tr>\n",
       "    <tr>\n",
       "      <th>1007084219</th>\n",
       "      <td>0</td>\n",
       "    </tr>\n",
       "    <tr>\n",
       "      <th>1007099706</th>\n",
       "      <td>0</td>\n",
       "    </tr>\n",
       "    <tr>\n",
       "      <th>1007184581</th>\n",
       "      <td>0</td>\n",
       "    </tr>\n",
       "    <tr>\n",
       "      <th>1007227664</th>\n",
       "      <td>0</td>\n",
       "    </tr>\n",
       "    <tr>\n",
       "      <th>1007246122</th>\n",
       "      <td>0</td>\n",
       "    </tr>\n",
       "    <tr>\n",
       "      <th>1007281889</th>\n",
       "      <td>0</td>\n",
       "    </tr>\n",
       "    <tr>\n",
       "      <th>1007295623</th>\n",
       "      <td>0</td>\n",
       "    </tr>\n",
       "    <tr>\n",
       "      <th>1007298334</th>\n",
       "      <td>0</td>\n",
       "    </tr>\n",
       "    <tr>\n",
       "      <th>1007306634</th>\n",
       "      <td>0</td>\n",
       "    </tr>\n",
       "    <tr>\n",
       "      <th>1007330127</th>\n",
       "      <td>0</td>\n",
       "    </tr>\n",
       "    <tr>\n",
       "      <th>1007341779</th>\n",
       "      <td>0</td>\n",
       "    </tr>\n",
       "    <tr>\n",
       "      <th>1007359134</th>\n",
       "      <td>0</td>\n",
       "    </tr>\n",
       "    <tr>\n",
       "      <th>1007383273</th>\n",
       "      <td>0</td>\n",
       "    </tr>\n",
       "    <tr>\n",
       "      <th>...</th>\n",
       "      <td>...</td>\n",
       "    </tr>\n",
       "    <tr>\n",
       "      <th>1014532398</th>\n",
       "      <td>0</td>\n",
       "    </tr>\n",
       "    <tr>\n",
       "      <th>1014539109</th>\n",
       "      <td>0</td>\n",
       "    </tr>\n",
       "    <tr>\n",
       "      <th>1014547884</th>\n",
       "      <td>0</td>\n",
       "    </tr>\n",
       "    <tr>\n",
       "      <th>1014551627</th>\n",
       "      <td>0</td>\n",
       "    </tr>\n",
       "    <tr>\n",
       "      <th>1014571994</th>\n",
       "      <td>0</td>\n",
       "    </tr>\n",
       "    <tr>\n",
       "      <th>1014578899</th>\n",
       "      <td>0</td>\n",
       "    </tr>\n",
       "    <tr>\n",
       "      <th>1014586046</th>\n",
       "      <td>0</td>\n",
       "    </tr>\n",
       "    <tr>\n",
       "      <th>1014593279</th>\n",
       "      <td>0</td>\n",
       "    </tr>\n",
       "    <tr>\n",
       "      <th>1014632169</th>\n",
       "      <td>0</td>\n",
       "    </tr>\n",
       "    <tr>\n",
       "      <th>1014640927</th>\n",
       "      <td>0</td>\n",
       "    </tr>\n",
       "    <tr>\n",
       "      <th>1014657461</th>\n",
       "      <td>0</td>\n",
       "    </tr>\n",
       "    <tr>\n",
       "      <th>1014659781</th>\n",
       "      <td>0</td>\n",
       "    </tr>\n",
       "    <tr>\n",
       "      <th>1014667352</th>\n",
       "      <td>0</td>\n",
       "    </tr>\n",
       "    <tr>\n",
       "      <th>1014697426</th>\n",
       "      <td>0</td>\n",
       "    </tr>\n",
       "    <tr>\n",
       "      <th>1014710322</th>\n",
       "      <td>0</td>\n",
       "    </tr>\n",
       "    <tr>\n",
       "      <th>1014753188</th>\n",
       "      <td>0</td>\n",
       "    </tr>\n",
       "    <tr>\n",
       "      <th>1014753677</th>\n",
       "      <td>0</td>\n",
       "    </tr>\n",
       "    <tr>\n",
       "      <th>1014788707</th>\n",
       "      <td>0</td>\n",
       "    </tr>\n",
       "    <tr>\n",
       "      <th>1014790265</th>\n",
       "      <td>0</td>\n",
       "    </tr>\n",
       "    <tr>\n",
       "      <th>1014820493</th>\n",
       "      <td>0</td>\n",
       "    </tr>\n",
       "    <tr>\n",
       "      <th>1014860648</th>\n",
       "      <td>0</td>\n",
       "    </tr>\n",
       "    <tr>\n",
       "      <th>1014866421</th>\n",
       "      <td>0</td>\n",
       "    </tr>\n",
       "    <tr>\n",
       "      <th>1014881086</th>\n",
       "      <td>0</td>\n",
       "    </tr>\n",
       "    <tr>\n",
       "      <th>1014901856</th>\n",
       "      <td>0</td>\n",
       "    </tr>\n",
       "    <tr>\n",
       "      <th>1014917205</th>\n",
       "      <td>0</td>\n",
       "    </tr>\n",
       "    <tr>\n",
       "      <th>1014926743</th>\n",
       "      <td>0</td>\n",
       "    </tr>\n",
       "    <tr>\n",
       "      <th>1014928212</th>\n",
       "      <td>0</td>\n",
       "    </tr>\n",
       "    <tr>\n",
       "      <th>1014983247</th>\n",
       "      <td>0</td>\n",
       "    </tr>\n",
       "    <tr>\n",
       "      <th>1015000099</th>\n",
       "      <td>0</td>\n",
       "    </tr>\n",
       "    <tr>\n",
       "      <th>1015000442</th>\n",
       "      <td>0</td>\n",
       "    </tr>\n",
       "  </tbody>\n",
       "</table>\n",
       "<p>518 rows × 1 columns</p>\n",
       "</div>"
      ],
      "text/plain": [
       "            hired\n",
       "tasker_id        \n",
       "1006646767      0\n",
       "1006655883      0\n",
       "1006690425      0\n",
       "1006702141      0\n",
       "1006720473      0\n",
       "1006751673      0\n",
       "1006771484      0\n",
       "1006797028      0\n",
       "1006808958      0\n",
       "1006853970      0\n",
       "1006899551      0\n",
       "1006912729      0\n",
       "1006997279      0\n",
       "1007007551      0\n",
       "1007030973      0\n",
       "1007062502      0\n",
       "1007079569      0\n",
       "1007084219      0\n",
       "1007099706      0\n",
       "1007184581      0\n",
       "1007227664      0\n",
       "1007246122      0\n",
       "1007281889      0\n",
       "1007295623      0\n",
       "1007298334      0\n",
       "1007306634      0\n",
       "1007330127      0\n",
       "1007341779      0\n",
       "1007359134      0\n",
       "1007383273      0\n",
       "...           ...\n",
       "1014532398      0\n",
       "1014539109      0\n",
       "1014547884      0\n",
       "1014551627      0\n",
       "1014571994      0\n",
       "1014578899      0\n",
       "1014586046      0\n",
       "1014593279      0\n",
       "1014632169      0\n",
       "1014640927      0\n",
       "1014657461      0\n",
       "1014659781      0\n",
       "1014667352      0\n",
       "1014697426      0\n",
       "1014710322      0\n",
       "1014753188      0\n",
       "1014753677      0\n",
       "1014788707      0\n",
       "1014790265      0\n",
       "1014820493      0\n",
       "1014860648      0\n",
       "1014866421      0\n",
       "1014881086      0\n",
       "1014901856      0\n",
       "1014917205      0\n",
       "1014926743      0\n",
       "1014928212      0\n",
       "1014983247      0\n",
       "1015000099      0\n",
       "1015000442      0\n",
       "\n",
       "[518 rows x 1 columns]"
      ]
     },
     "execution_count": 16,
     "metadata": {},
     "output_type": "execute_result"
    }
   ],
   "source": [
    "#**Which Tasker has been hired the least?**\n",
    "least = pd.DataFrame(data.groupby('tasker_id').hired.sum())\n",
    "least.loc[least['hired']==0]"
   ]
  },
  {
   "cell_type": "markdown",
   "metadata": {},
   "source": [
    "6.) **If we define the \"Tasker conversion rate\" as the number of times a\n",
    "   Tasker has been hired, out of the number of times the Tasker has\n",
    "   been shown, how many Taskers have a conversion rate of 100%**<br> 6 taskers had 100% conversion rate"
   ]
  },
  {
   "cell_type": "code",
   "execution_count": 69,
   "metadata": {},
   "outputs": [],
   "source": [
    "shown = data.tasker_id.value_counts()\n",
    "hired = data.groupby('tasker_id').hired.sum()"
   ]
  },
  {
   "cell_type": "code",
   "execution_count": 73,
   "metadata": {},
   "outputs": [],
   "source": [
    "#**the 'tasker_id' column in the following dataframe represents the number of times the tasker_id has been shown**\n",
    "convRate = pd.concat([hired,shown],axis=1)\n",
    "convRate['rate'] = convRate['hired']/convRate['tasker_id']"
   ]
  },
  {
   "cell_type": "code",
   "execution_count": 76,
   "metadata": {},
   "outputs": [
    {
     "data": {
      "text/html": [
       "<div>\n",
       "<style scoped>\n",
       "    .dataframe tbody tr th:only-of-type {\n",
       "        vertical-align: middle;\n",
       "    }\n",
       "\n",
       "    .dataframe tbody tr th {\n",
       "        vertical-align: top;\n",
       "    }\n",
       "\n",
       "    .dataframe thead th {\n",
       "        text-align: right;\n",
       "    }\n",
       "</style>\n",
       "<table border=\"1\" class=\"dataframe\">\n",
       "  <thead>\n",
       "    <tr style=\"text-align: right;\">\n",
       "      <th></th>\n",
       "      <th>hired</th>\n",
       "      <th>tasker_id</th>\n",
       "      <th>rate</th>\n",
       "    </tr>\n",
       "  </thead>\n",
       "  <tbody>\n",
       "    <tr>\n",
       "      <th>1007480912</th>\n",
       "      <td>1</td>\n",
       "      <td>1</td>\n",
       "      <td>1.0</td>\n",
       "    </tr>\n",
       "    <tr>\n",
       "      <th>1008094420</th>\n",
       "      <td>2</td>\n",
       "      <td>2</td>\n",
       "      <td>1.0</td>\n",
       "    </tr>\n",
       "    <tr>\n",
       "      <th>1008861741</th>\n",
       "      <td>9</td>\n",
       "      <td>9</td>\n",
       "      <td>1.0</td>\n",
       "    </tr>\n",
       "    <tr>\n",
       "      <th>1011985968</th>\n",
       "      <td>1</td>\n",
       "      <td>1</td>\n",
       "      <td>1.0</td>\n",
       "    </tr>\n",
       "    <tr>\n",
       "      <th>1012369686</th>\n",
       "      <td>2</td>\n",
       "      <td>2</td>\n",
       "      <td>1.0</td>\n",
       "    </tr>\n",
       "    <tr>\n",
       "      <th>1014478773</th>\n",
       "      <td>1</td>\n",
       "      <td>1</td>\n",
       "      <td>1.0</td>\n",
       "    </tr>\n",
       "  </tbody>\n",
       "</table>\n",
       "</div>"
      ],
      "text/plain": [
       "            hired  tasker_id  rate\n",
       "1007480912      1          1   1.0\n",
       "1008094420      2          2   1.0\n",
       "1008861741      9          9   1.0\n",
       "1011985968      1          1   1.0\n",
       "1012369686      2          2   1.0\n",
       "1014478773      1          1   1.0"
      ]
     },
     "execution_count": 76,
     "metadata": {},
     "output_type": "execute_result"
    }
   ],
   "source": [
    "hundred = convRate.loc[convRate['rate']==1]\n",
    "hundred"
   ]
  },
  {
   "cell_type": "code",
   "execution_count": 77,
   "metadata": {},
   "outputs": [
    {
     "data": {
      "text/plain": [
       "6"
      ]
     },
     "execution_count": 77,
     "metadata": {},
     "output_type": "execute_result"
    }
   ],
   "source": [
    "len(hundred)"
   ]
  },
  {
   "cell_type": "markdown",
   "metadata": {},
   "source": [
    "7.) **Would it be possible for all Taskers to have a conversion rate of 100%\n",
    "   Please explain your reasoning.**<br>No that is not be possible. Each recommendation set include a group of taskers in which there is one person that is hirable. In order to offer the user-employer a selection of possible taskers, there is a larger supply of taskers available to the market than is being hired at any given time. Therefore 14/15 taskers in a recommendation set will inevitably have lower conversion rates in every group the taskers are included in. "
   ]
  },
  {
   "cell_type": "markdown",
   "metadata": {},
   "source": [
    "8.) **For each category, what is the average position of the Tasker who is hired?**<br> Answered the average and mode (most frequently selected)of the numerical position per category as the data was useful."
   ]
  },
  {
   "cell_type": "code",
   "execution_count": 8,
   "metadata": {},
   "outputs": [
    {
     "data": {
      "text/plain": [
       "category\n",
       "Furniture Assembly    7.8801\n",
       "Mounting              7.8706\n",
       "Moving Help           7.8701\n",
       "Name: position, dtype: float64"
      ]
     },
     "execution_count": 8,
     "metadata": {},
     "output_type": "execute_result"
    }
   ],
   "source": [
    "data.groupby('category').position.mean()"
   ]
  },
  {
   "cell_type": "markdown",
   "metadata": {},
   "source": [
    "#### Appears that the most hired are in within the early selections"
   ]
  },
  {
   "cell_type": "code",
   "execution_count": 7,
   "metadata": {
    "scrolled": true
   },
   "outputs": [
    {
     "data": {
      "text/plain": [
       "category\n",
       "Furniture Assembly         1\n",
       "Mounting                   1\n",
       "Moving Help           [1, 2]\n",
       "Name: position, dtype: object"
      ]
     },
     "execution_count": 7,
     "metadata": {},
     "output_type": "execute_result"
    }
   ],
   "source": [
    "data.groupby('category').position.agg(pd.Series.mode)"
   ]
  },
  {
   "cell_type": "markdown",
   "metadata": {},
   "source": [
    "9.) **For each category, what is the average hourly rate and average number of completed tasks for the Taskers who are hired?**"
   ]
  },
  {
   "cell_type": "code",
   "execution_count": 82,
   "metadata": {},
   "outputs": [
    {
     "data": {
      "text/plain": [
       "category\n",
       "Furniture Assembly    38.701049\n",
       "Mounting              50.154804\n",
       "Moving Help           63.012259\n",
       "Name: hourly_rate, dtype: float64"
      ]
     },
     "execution_count": 82,
     "metadata": {},
     "output_type": "execute_result"
    }
   ],
   "source": [
    "#avereage hourly rate\n",
    "data.loc[data['hired']==1].groupby('category').hourly_rate.mean()"
   ]
  },
  {
   "cell_type": "code",
   "execution_count": 83,
   "metadata": {},
   "outputs": [
    {
     "data": {
      "text/plain": [
       "category\n",
       "Furniture Assembly    249.020979\n",
       "Mounting              284.096085\n",
       "Moving Help           273.882662\n",
       "Name: num_completed_tasks, dtype: float64"
      ]
     },
     "execution_count": 83,
     "metadata": {},
     "output_type": "execute_result"
    }
   ],
   "source": [
    "#average number of completed tasks\n",
    "data.loc[data['hired']==1].groupby('category').num_completed_tasks.mean()"
   ]
  },
  {
   "cell_type": "markdown",
   "metadata": {},
   "source": [
    "10.) **Based on the previous, how would you approach the question of:\n",
    "    How can we use market data to suggest hourly rates to Taskers that would\n",
    "    maximize their opportunity to be hired?\n",
    "    Please describe in detail, with code and formulas that support your model.**"
   ]
  },
  {
   "cell_type": "markdown",
   "metadata": {},
   "source": [
    "* The easiest method of practical value, is to use first part of question 9: to group by category then recommendation-set. Then average the hourly_rates of those that managed to be hired, suggesting the range: mean(plus minus one standard deviation) is the range of hourly rate that has worked best with this category in the past. \n",
    "* Possibly, another method would be to attempt a statistical model (decision tree-based or something more simple such as linear regression). By transforming categorical data into dummy variabels, we can create a linear regression model with input variables of position,num_completed tasks, and dummy_categories that can regressively predict what the hourly rate should be based on past data of hired taskers. \n",
    "* The limitation with the 2nd method is that it doesnt take advantage of the data of those that weren't hired. Also the features available may be insufficient in determining optimal price. \n"
   ]
  },
  {
   "cell_type": "markdown",
   "metadata": {},
   "source": [
    "### Method 1"
   ]
  },
  {
   "cell_type": "code",
   "execution_count": 10,
   "metadata": {},
   "outputs": [
    {
     "data": {
      "text/plain": [
       "category\n",
       "Furniture Assembly    13.514984\n",
       "Mounting              10.043536\n",
       "Moving Help           29.959649\n",
       "Name: hourly_rate, dtype: float64"
      ]
     },
     "execution_count": 10,
     "metadata": {},
     "output_type": "execute_result"
    }
   ],
   "source": [
    "data.loc[data['hired']==1].groupby('category').hourly_rate.std()"
   ]
  },
  {
   "cell_type": "markdown",
   "metadata": {},
   "source": [
    "Furniture Assembly----38.701049 plus or minus 13.514984<br>\n",
    "Mounting---------------50.154804 plus or minus 10.043536<br>\n",
    "Moving Help-----------63.012259 plus or minus 29.959649<br>"
   ]
  },
  {
   "cell_type": "markdown",
   "metadata": {},
   "source": [
    "###  Method 2"
   ]
  },
  {
   "cell_type": "code",
   "execution_count": 121,
   "metadata": {},
   "outputs": [],
   "source": [
    "furniture = data.loc[(data['hired']==1)]"
   ]
  },
  {
   "cell_type": "code",
   "execution_count": 91,
   "metadata": {},
   "outputs": [],
   "source": [
    "#create dummy variables for the categories\n",
    "dummy = pd.get_dummies(furniture, columns=['category'],drop_first=True)"
   ]
  },
  {
   "cell_type": "markdown",
   "metadata": {},
   "source": [
    "**R2 Value Linear Regression:**"
   ]
  },
  {
   "cell_type": "code",
   "execution_count": 95,
   "metadata": {},
   "outputs": [
    {
     "name": "stdout",
     "output_type": "stream",
     "text": [
      "0.3942976733109893\n"
     ]
    }
   ],
   "source": [
    "X = pd.concat([furniture.iloc[:,3],furniture.iloc[:,5],dummy.iloc[:,-2:]], axis=1)\n",
    "y = furniture['hourly_rate'].reset_index(drop= True)\n",
    "\n",
    "#K Fold Cross validation implementation\n",
    "from sklearn.linear_model import LinearRegression\n",
    "from sklearn import metrics\n",
    "from sklearn.model_selection import cross_val_predict\n",
    "lr = LinearRegression()\n",
    "predicted = cross_val_predict(lr, X, y, cv=10)\n",
    "print(metrics.r2_score(y, predicted))"
   ]
  },
  {
   "cell_type": "code",
   "execution_count": 96,
   "metadata": {
    "scrolled": true
   },
   "outputs": [
    {
     "name": "stdout",
     "output_type": "stream",
     "text": [
      "28.380302441641504 50.55620237914096 96.16436950699025\n"
     ]
    }
   ],
   "source": [
    "print(predicted.min(), predicted.mean(),predicted.max())"
   ]
  },
  {
   "cell_type": "markdown",
   "metadata": {},
   "source": [
    "#### Random Forest Model"
   ]
  },
  {
   "cell_type": "markdown",
   "metadata": {},
   "source": [
    "Random Forest R2"
   ]
  },
  {
   "cell_type": "code",
   "execution_count": 116,
   "metadata": {},
   "outputs": [
    {
     "data": {
      "text/plain": [
       "0.927404945849187"
      ]
     },
     "execution_count": 116,
     "metadata": {},
     "output_type": "execute_result"
    }
   ],
   "source": [
    "from sklearn.ensemble import RandomForestRegressor\n",
    "forest = RandomForestRegressor(n_estimators=10, \n",
    "                                criterion='mse', \n",
    "                                random_state=1, \n",
    "                                n_jobs=1)\n",
    "forest.fit(X, y)\n",
    "pred = cross_val_predict(forest, X, y, cv=10)\n",
    "forest.score(X,y)"
   ]
  },
  {
   "cell_type": "markdown",
   "metadata": {},
   "source": [
    "Random Forest was able to give a much stronger prediction. This hints our features are sufficient in predicting a good hourly wage despite limited input features. "
   ]
  },
  {
   "cell_type": "markdown",
   "metadata": {},
   "source": [
    "(first line is RF Model predicted values, second vertical array is actual wage data)"
   ]
  },
  {
   "cell_type": "code",
   "execution_count": 120,
   "metadata": {
    "scrolled": true
   },
   "outputs": [
    {
     "name": "stdout",
     "output_type": "stream",
     "text": [
      "[44.5  45.   33.86 99.   32.3  31.8  42.5  42.5  42.5  71.7 ]\n",
      "0    50\n",
      "1    50\n",
      "2    32\n",
      "3    95\n",
      "4    35\n",
      "5    35\n",
      "6    42\n",
      "7    42\n",
      "8    42\n",
      "9    34\n",
      "Name: hourly_rate, dtype: int64\n"
     ]
    }
   ],
   "source": [
    "print(pred[:10])\n",
    "print(y[:10])"
   ]
  },
  {
   "cell_type": "markdown",
   "metadata": {},
   "source": [
    "Although inear regression weakly predicted the response variable, random forest was able to perform much better in suggesting a valid a wage that will most likely help a tasker get hired."
   ]
  },
  {
   "cell_type": "markdown",
   "metadata": {},
   "source": [
    "#### To be noted\n",
    "Of course,  these models are extremely limited and may not reflect recent studies done about profile selection(hirability in our case). Similar to studies done for evaluating Tinder Profiles: Profile Picture, Description, and Rating may affect selection decision more than price which may be more elastic pending on employer. Therefore coding the extra data aforementioned(making it usable input for a model)will more than likely lead to more conclusive and valuable results. "
   ]
  }
 ],
 "metadata": {
  "kernelspec": {
   "display_name": "Python 3",
   "language": "python",
   "name": "python3"
  },
  "language_info": {
   "codemirror_mode": {
    "name": "ipython",
    "version": 3
   },
   "file_extension": ".py",
   "mimetype": "text/x-python",
   "name": "python",
   "nbconvert_exporter": "python",
   "pygments_lexer": "ipython3",
   "version": "3.6.4"
  },
  "varInspector": {
   "cols": {
    "lenName": 16,
    "lenType": 16,
    "lenVar": 40
   },
   "kernels_config": {
    "python": {
     "delete_cmd_postfix": "",
     "delete_cmd_prefix": "del ",
     "library": "var_list.py",
     "varRefreshCmd": "print(var_dic_list())"
    },
    "r": {
     "delete_cmd_postfix": ") ",
     "delete_cmd_prefix": "rm(",
     "library": "var_list.r",
     "varRefreshCmd": "cat(var_dic_list()) "
    }
   },
   "types_to_exclude": [
    "module",
    "function",
    "builtin_function_or_method",
    "instance",
    "_Feature"
   ],
   "window_display": false
  }
 },
 "nbformat": 4,
 "nbformat_minor": 2
}
